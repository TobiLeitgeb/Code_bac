{
 "cells": [
  {
   "cell_type": "code",
   "execution_count": null,
   "metadata": {},
   "outputs": [],
   "source": [
    "import numpy as np\n",
    "import matplotlib.pyplot as plt\n",
    "import sys\n",
    "sys.path.append('../../PI_GP_regressor')\n",
    "\n",
    "from main_class import PhysicsInformedGP_regressor\n",
    "from kernels.kernel_wave_3d import gram_Matrix,k_ff, k_fu, k_uf, k_uu"
   ]
  },
  {
   "cell_type": "code",
   "execution_count": 14,
   "metadata": {},
   "outputs": [
    {
     "name": "stderr",
     "output_type": "stream",
     "text": [
      " c:\\Users\\Razer\\OneDrive - Technische Universität Graz\\Dokumente\\Uni\\BAC\\Code_bac\\final_examples\\wave_equation\\../../PI_GP_regressor\\main_class.py:958: UserWarning:The balance properties of Sobol' points require n to be a power of 2.\n",
      " c:\\Users\\Razer\\OneDrive - Technische Universität Graz\\Dokumente\\Uni\\BAC\\Code_bac\\final_examples\\wave_equation\\../../PI_GP_regressor\\main_class.py:969: UserWarning:The balance properties of Sobol' points require n to be a power of 2.\n"
     ]
    }
   ],
   "source": [
    "kernel_list = [gram_Matrix, k_uu, k_uf, k_fu, k_ff]\n",
    "hyperparameters = [\"l_space\", \"sigma\", \"l_t\", \"c\"]\n",
    "model = PhysicsInformedGP_regressor(kernel_list, params = hyperparameters,timedependence=True, Dimensions = 3)\n",
    "\n",
    "n_training_points = 700\n",
    "\n",
    "model.set_training_data(\"\",n_training_points, noise = [1e-8,1e-8])"
   ]
  },
  {
   "cell_type": "code",
   "execution_count": 15,
   "metadata": {},
   "outputs": [
    {
     "name": "stderr",
     "output_type": "stream",
     "text": [
      "100%|██████████| 50/50 [04:28<00:00,  5.38s/it]"
     ]
    },
    {
     "name": "stdout",
     "output_type": "stream",
     "text": [
      "      fun: 2220.620361328125\n",
      " hess_inv: <4x4 LbfgsInvHessProduct with dtype=float64>\n",
      "      jac: array([     0.        , 854492.18794977, 903320.31234866,      0.        ])\n",
      "  message: 'CONVERGENCE: REL_REDUCTION_OF_F_<=_FACTR*EPSMCH'\n",
      "     nfev: 165\n",
      "      nit: 2\n",
      "     njev: 33\n",
      "   status: 0\n",
      "  success: True\n",
      "        x: array([0.99487881, 0.39290015, 0.02980772, 1.45822157])\n"
     ]
    },
    {
     "name": "stderr",
     "output_type": "stream",
     "text": [
      "\n"
     ]
    }
   ],
   "source": [
    "model.jitter = 1e-6\n",
    "def get_initial_values():\n",
    "    \"\"\"returns the initial values for the hyperparameters\n",
    "    for the length scales we initialize them randomly as log(l) ~ U(-1.3,1)\n",
    "    \"\"\"\n",
    "    rng = np.random.default_rng()\n",
    "    theta_initial = np.zeros((4))\n",
    "    theta_initial[0] = (rng.uniform(0.1, 1, 1))  #lx\n",
    "    theta_initial[1] = rng.uniform(0, 1, 1)               #sigma_f\n",
    "    theta_initial[2] = (rng.uniform(0, 1, 1))  #lt\n",
    "    theta_initial[3] = rng.uniform(0.5, 1.5, 1)               #c\n",
    "    return theta_initial\n",
    "n_restarts = 50\n",
    "n_threads = 1\n",
    "opt_params_dict = {'theta_initial': get_initial_values,   #needed for all optimization methods\n",
    "                    'bounds': ((1e-2, None), (1e-5, None), (1e-3, 2),(1e-2, None)), #needed for TNC and L-BFGS-B\n",
    "                    'gtol': 1e-6}\n",
    "model.train(\"L-BFGS-B\",n_restarts, n_threads,opt_params_dict)"
   ]
  },
  {
   "cell_type": "code",
   "execution_count": 18,
   "metadata": {},
   "outputs": [
    {
     "data": {
      "text/plain": [
       "Array(2219.8647, dtype=float32)"
      ]
     },
     "execution_count": 18,
     "metadata": {},
     "output_type": "execute_result"
    }
   ],
   "source": [
    "model.log_marginal_likelohood([0.99487881, 0.39290015, 0.02980772, 1.])"
   ]
  },
  {
   "cell_type": "code",
   "execution_count": null,
   "metadata": {},
   "outputs": [],
   "source": [
    "model.set_params([0.76,0.05,0.08,1])"
   ]
  },
  {
   "cell_type": "code",
   "execution_count": null,
   "metadata": {},
   "outputs": [],
   "source": [
    "import matplotlib.pyplot as plt\n",
    "def l_t():\n",
    "     return np.exp(np.random.uniform(-4, 0, 1))\n",
    "def l_space():\n",
    "    return np.exp(np.random.uniform(-1.5, 0.3, 1))\n",
    "list1 = [l_t() for i in range(100)]\n",
    "list2 = [l_space() for i in range(100)]\n",
    "plt.figure()\n",
    "plt.plot(np.sort(list1),\"x\")\n",
    "plt.show()\n",
    "plt.figure()\n",
    "\n",
    "plt.plot(list2,\"x\")\n"
   ]
  },
  {
   "cell_type": "code",
   "execution_count": null,
   "metadata": {},
   "outputs": [],
   "source": [
    "sorted_results = sorted(model.results_list, key=lambda x: x.fun)\n",
    "#extract the .x parts of the results\n",
    "sorted_result_theta = np.array([x.x for x in sorted_results])\n",
    "#extract the .fun parts of the results\n",
    "sorted_result_fun = [x.fun for x in sorted_results]\n",
    "#plt\n",
    "print(sorted_result_theta.shape)\n",
    "plt.scatter(sorted_result_theta[:70,3],sorted_result_fun[:70])\n",
    "\n",
    "\n"
   ]
  },
  {
   "cell_type": "code",
   "execution_count": null,
   "metadata": {},
   "outputs": [],
   "source": [
    "#[0.56290215, 0.0145229 , 0.10911952, 1.15137777]     351.3336181640625"
   ]
  },
  {
   "cell_type": "code",
   "execution_count": 19,
   "metadata": {},
   "outputs": [],
   "source": [
    "grid_number = 101\n",
    "x = np.linspace(0,2,grid_number).reshape(-1,1)\n",
    "y = np.linspace(0,2,grid_number).reshape(-1,1)\n",
    "t = np.linspace(0,4,grid_number).reshape(-1,1)\n",
    "gx, gy = np.meshgrid(x,y)\n",
    "\n",
    "X_2d = np.c_[gx.ravel(), gy.ravel()]\n",
    "\n",
    "time_points = np.linspace(0,4,81)\n"
   ]
  },
  {
   "cell_type": "code",
   "execution_count": 20,
   "metadata": {},
   "outputs": [],
   "source": [
    "mean = []\n",
    "var = []\n",
    "for i in range(len(time_points)):\n",
    "    X_3d = np.c_[gx.ravel(), gy.ravel(), time_points[i]*np.ones(len(gx.ravel()))]\n",
    "    mean_i, var_i = model.predict_u(X_3d)\n",
    "    mean.append(mean_i)\n",
    "    var.append(var_i)"
   ]
  },
  {
   "cell_type": "code",
   "execution_count": null,
   "metadata": {},
   "outputs": [],
   "source": [
    "#calculate the mean in parallel\n",
    "from joblib import Parallel, delayed\n",
    "def parallel_mean(i):\n",
    "    X_3d = np.c_[gx.ravel(), gy.ravel(), time_points[i]*np.ones(len(gx.ravel()))]\n",
    "    mean_i, var_i = model.predict_u(X_3d)\n",
    "    return mean_i\n",
    "mean = Parallel(n_jobs=4)(delayed(parallel_mean)(i) for i in range(len(time_points)))"
   ]
  },
  {
   "cell_type": "code",
   "execution_count": null,
   "metadata": {},
   "outputs": [],
   "source": [
    "from matplotlib.animation import FuncAnimation\n",
    "mean = np.array(mean)\n",
    "mean = mean.reshape(len(time_points),grid_number,grid_number)\n",
    "u_matrix = model.raw_data[2]\n",
    "print(mean.shape)\n",
    "fig, ax  = plt.subplots(1,2)\n",
    "fig.tight_layout()\n",
    "def frame(i):\n",
    "    fig.suptitle('t = ' + str(time_points[i]), fontsize=16)\n",
    "    ax[0].clear()\n",
    "    im = ax[0].imshow(mean[i,:,:].T, cmap='viridis', interpolation='nearest',vmin = -0.1, vmax = 0.1, extent=[0,2,0,2])\n",
    "    ax[0].set_title(\"mean\")\n",
    "    ax[1].clear()\n",
    "    im = ax[1].imshow(u_matrix[:,:,i], cmap='viridis', interpolation='nearest',vmin = -0.1, vmax = 0.1, extent=[0,2,0,2])\n",
    "    ax[1].set_title(\"ground truth\")\n",
    "ani = FuncAnimation(fig, frame, frames=len(time_points), repeat=False)\n",
    "\n",
    "ani.save('test3.mp4', writer='ffmpeg', fps=10)\n",
    "plt.close()\n",
    "from IPython.display import HTML\n",
    "\n",
    "# Replace 'video.mp4' with the name of your MP4 file\n",
    "video_path = 'video.mp4'\n",
    "\n",
    "# Embed the video in the notebook\n",
    "HTML(f'<video width=\"640\" height=\"480\" controls><source src=\"{\"test3.mp4\"}\" type=\"video/mp4\"></video>')"
   ]
  },
  {
   "cell_type": "code",
   "execution_count": 13,
   "metadata": {},
   "outputs": [
    {
     "name": "stderr",
     "output_type": "stream",
     "text": [
      "MovieWriter ffmepg unavailable; using Pillow instead.\n"
     ]
    }
   ],
   "source": [
    "fig, ax  = plt.subplots(1,2,subplot_kw={\"projection\": \"3d\"})\n",
    "fig.tight_layout()\n",
    "def frame(i):\n",
    "    fig.suptitle('t = ' + str(time_points[i]), fontsize=16)\n",
    "    ax[0].clear()\n",
    "    im = ax[0].plot_surface(gx,gy,mean[i,:,:].T, cmap='viridis')\n",
    "    ax[0].set_title(\"mean\")\n",
    "    ax[0].set_zlim(-0.5,0.5)\n",
    "    ax[1].clear()\n",
    "    im = ax[1].plot_surface(gx,gy,u_matrix[:,:,i], cmap='viridis')\n",
    "    ax[1].set_title(\"ground truth\")\n",
    "    ax[1].set_zlim(-0.5,0.5)\n",
    "ani = FuncAnimation(fig, frame, frames=len(time_points), repeat=False)\n",
    "\n",
    "ani.save('3dplot.gif', writer='ffmepg', fps=10)\n",
    "plt.close()"
   ]
  },
  {
   "cell_type": "code",
   "execution_count": null,
   "metadata": {},
   "outputs": [],
   "source": [
    "fig, ax = plt.subplots(2,10,figsize=(40,10))\n",
    "ax = ax.flatten()\n",
    "#split the ax\n",
    "ax_1 = ax[:10]\n",
    "ax_2 = ax[10:]\n",
    "u_matrix = model.raw_data[2]\n",
    "print(u_matrix.shape)\n",
    "for i,t in zip(range(10),np.linspace(0, 4, len(u_matrix[0,0,:]))):\n",
    "    \n",
    "    im = ax_2[i].imshow(u_matrix[:,:,i*5].T, cmap='viridis',extent=[0,2,0,2],vmin = -0.1, vmax = 0.1)\n",
    "    #plot the train points. we need to chekck for every t value and then plot the x,y coordinates\n",
    "    #ax[i].scatter(x_train_u[t_train_u==i*5], y_train_u[t_train_u==i*5], color='red', marker='x', label='training points')\n",
    "    ax_1[i].imshow(mean[i*5,:,:], cmap='viridis',extent=[0,2,0,2],vmin = -0.1, vmax = 0.1)\n",
    "\n",
    "    #ax_1[i].set_xlabel('x')\n",
    "    #ax_1[i].set_ylabel('y')\n",
    "    ax_1[i].set_title('t = ' + str(np.round(time_points[i*4],4)), fontsize=20)\n",
    "    #tight layout\n",
    "    fig.tight_layout()\n",
    "\n"
   ]
  },
  {
   "cell_type": "code",
   "execution_count": null,
   "metadata": {},
   "outputs": [],
   "source": [
    "fig, ax = plt.subplots(2,10,figsize=(40,10))\n",
    "ax = ax.flatten()\n",
    "#split the ax\n",
    "ax_1 = ax[:10]\n",
    "ax_2 = ax[10:]\n",
    "u_matrix = model.raw_data[2]\n",
    "print(u_matrix.shape)\n",
    "for i,t in zip(range(10),np.linspace(0, 4, len(u_matrix[0,0,:]))):\n",
    "    \n",
    "    im = ax_2[i].imshow(u_matrix[:,:,i*5].T, cmap='viridis',extent=[0,2,0,2],vmin = -1, vmax = 1.5)\n",
    "    #plot the train points. we need to chekck for every t value and then plot the x,y coordinates\n",
    "    #ax[i].scatter(x_train_u[t_train_u==i*5], y_train_u[t_train_u==i*5], color='red', marker='x', label='training points')\n",
    "    ax_1[i].imshow(np.abs(mean[i*5,:,:]-u_matrix.T[i*5,:,:]), cmap='viridis',extent=[0,2,0,2],vmin = 0, vmax = 1)\n",
    "\n",
    "    #ax_1[i].set_xlabel('x')\n",
    "    #ax_1[i].set_ylabel('y')\n",
    "    ax_1[i].set_title('t = ' + str(np.round(time_points[i*4],4)), fontsize=20)\n",
    "    #tight layout\n",
    "    fig.tight_layout()"
   ]
  },
  {
   "cell_type": "code",
   "execution_count": null,
   "metadata": {},
   "outputs": [],
   "source": [
    "X = model.X\n",
    "import jax.numpy as jnp\n",
    "def marg_log_likelihood(X, targets, params):\n",
    "    K = k_uu(X, X, params) + 1e-6*np.eye(len(X))\n",
    "    L = jnp.linalg.cholesky(K)\n",
    "    alpha = jnp.linalg.solve(L.T, np.linalg.solve(L, targets))\n",
    "    \n",
    "    marg_log_likelihood = -1/2 * jnp.dot(targets.T,alpha) - np.sum(np.log(np.diagonal(L))) - len(X)/2 * np.log(2*np.pi)\n",
    "    return marg_log_likelihood\n",
    "\n",
    "from scipy.optimize import minimize\n",
    "def minimize_log(X,targets):\n",
    "    targets = targets.ravel()\n",
    "    def marg_log_likelihood(params):\n",
    "\n",
    "        K = k_uu(X, X, params)\n",
    "        L = np.linalg.cholesky(K + 1e-6*np.eye(len(X)))\n",
    "        alpha = np.linalg.solve(L.T, np.linalg.solve(L, targets))\n",
    "    \n",
    "        marg_log_likelihood = 1/2 * np.dot(targets.T,alpha) + np.trace(np.log(L)) + len(X)/2 * np.log(2*np.pi)\n",
    "        return marg_log_likelihood\n",
    "    return marg_log_likelihood\n",
    "theta = minimize(minimize_log(X,model.u_train), x0 = [0.1, 0.1, 0.1, 0.1], \n",
    "               bounds=((1e-5, None), (1e-5, None),(1e-5, None),(1e-5, None)),\n",
    "               method='L-BFGS-B')\n",
    "print(theta.x)\n",
    "print(theta.fun)\n",
    "\n",
    "def posterior_distribution(X, targets,x_test, params ):\n",
    "    K = k_uu(X, X, params) \n",
    "    K_s = k_uu(X, x_test,params)\n",
    "    K_ss = k_uu(x_test, x_test,params)\n",
    "\n",
    "    L = jnp.linalg.cholesky(K + 1e-6*np.eye(len(X)))\n",
    "    alpha = jnp.linalg.solve(L.T, jnp.linalg.solve(L, targets))\n",
    "\n",
    "    f_star = jnp.dot(K_s.T, alpha)\n",
    "    v = jnp.linalg.solve(L, K_s)\n",
    "    var_f_star = K_ss - jnp.dot(v.T, v)\n",
    "    \n",
    "    return f_star, var_f_star\n",
    "\n",
    "x = np.linspace(0,2,20).reshape(-1,1)\n",
    "y = np.linspace(0,2,20).reshape(-1,1)\n",
    "t = np.linspace(0,4,20).reshape(-1,1)\n",
    "\n",
    "gx, gy, gt = np.meshgrid(x,y,t)\n",
    "\n",
    "X_3d = np.c_[gx.ravel(), gy.ravel(), gt.ravel()]\n",
    "x_test = np.c_[x.ravel(), y.ravel(), t.ravel()]\n",
    "print(X_3d.shape)\n",
    "\n",
    "f_star, var_f_star = posterior_distribution(X, model.u_train, X_3d, theta.x)\n",
    "f_star.shape\n",
    "\n",
    "f_star = f_star.reshape(20,20,20)\n",
    "#var_f_star = var_f_star.reshape(20,20,20)\n",
    "\n"
   ]
  },
  {
   "cell_type": "code",
   "execution_count": null,
   "metadata": {},
   "outputs": [],
   "source": [
    "from matplotlib.animation import FuncAnimation\n",
    "fig, ax  = plt.subplots()\n",
    "def frame(t):\n",
    "    ax.clear()\n",
    "    im = ax.imshow(f_star[:,:,t], cmap='viridis', interpolation='nearest',vmin = -5, vmax = 5)\n",
    "\n",
    "ani = FuncAnimation(fig, frame, frames=30, repeat=False)\n",
    "\n",
    "ani.save('test.mp4', writer='ffmpeg', fps=10)"
   ]
  },
  {
   "cell_type": "code",
   "execution_count": null,
   "metadata": {},
   "outputs": [],
   "source": [
    "from skopt import gp_minimize, forest_minimize\n",
    "from skopt.space import Real\n",
    "model.jitter = 1e-5\n",
    "def gaussian_optimization(dictionary: dict):\n",
    "    def objective_function(params):\n",
    "        l_x, sigma_f_sq, l_t, alpha = params\n",
    "        return model.log_marginal_likelohood(params).item()\n",
    "    \n",
    "    result = gp_minimize(objective_function,  \n",
    "                        **dictionary)\n",
    "    print(result.x, result.fun)\n",
    "    return result\n",
    "\n",
    "ranges = [Real(0, 0.5, name='l_x', prior=\"uniform\"),\n",
    "             Real(0, 1, name='sigma_f_sq', prior=\"uniform\"),\n",
    "             Real(0, 0.5, name='l_t', prior=\"uniform\"),\n",
    "             Real(0, 4, name='alpha', prior=\"uniform\")]\n",
    "bays_opt_dictionary = {'dimensions': ranges,\n",
    "                        'n_calls': 30,\n",
    "                        'n_initial_points': 20,\n",
    "                        'random_state':2,\n",
    "                        'verbose': True,\n",
    "                        'noise': 1e-7                        \n",
    "                        }\n",
    "result = gaussian_optimization(bays_opt_dictionary)\n"
   ]
  },
  {
   "cell_type": "code",
   "execution_count": null,
   "metadata": {},
   "outputs": [],
   "source": [
    "\n",
    "from mpl_toolkits.mplot3d import Axes3D\n",
    "import matplotlib.pyplot as plt\n",
    "fig = plt.figure()\n",
    "ax = fig.add_subplot(111, projection='3d')\n",
    "\n",
    "x,y,t = model.X[:,0], model.X[:,1], model.X[:,2]\n",
    "\n",
    "ax.scatter(x, y, t)\n",
    "\n",
    "ax.set_xlabel('x')\n",
    "ax.set_ylabel('y')\n",
    "ax.set_zlabel('t')\n",
    "plt.savefig(\"training_points.png\",bbox_inches='tight')\n",
    "plt.show()\n"
   ]
  }
 ],
 "metadata": {
  "kernelspec": {
   "display_name": "bac",
   "language": "python",
   "name": "python3"
  },
  "language_info": {
   "codemirror_mode": {
    "name": "ipython",
    "version": 3
   },
   "file_extension": ".py",
   "mimetype": "text/x-python",
   "name": "python",
   "nbconvert_exporter": "python",
   "pygments_lexer": "ipython3",
   "version": "3.9.13"
  },
  "orig_nbformat": 4
 },
 "nbformat": 4,
 "nbformat_minor": 2
}
