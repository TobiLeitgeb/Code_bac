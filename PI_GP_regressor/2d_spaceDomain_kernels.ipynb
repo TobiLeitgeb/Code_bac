{
 "cells": [
  {
   "cell_type": "code",
   "execution_count": 1,
   "metadata": {},
   "outputs": [],
   "source": [
    "import jax.numpy as jnp\n",
    "from jax import jit, vmap, grad, random\n",
    "import numpy as np\n",
    "import matplotlib.pyplot as plt"
   ]
  },
  {
   "cell_type": "code",
   "execution_count": 30,
   "metadata": {},
   "outputs": [],
   "source": [
    "X = np.array([[1,2],\n",
    "              [3,4],\n",
    "              [5,6]])\n",
    "\n",
    "x_bar = X * 0.3\n",
    "T = np.array([1,2,3]).reshape(-1,1)\n",
    "t_bar = T \n",
    "full = np.hstack((X,T))\n",
    "full2 = np.hstack((x_bar,t_bar))\n",
    "def kernel_(X1, X2,T1,T2, l=1.0, sigma_f=1.0,l_t = 1):\n",
    "    sqdist = np.sum(X1**2, 1).reshape(-1, 1) + np.sum(X2**2, 1) - 2 * np.dot(X1, X2.T)\n",
    "    sqdist_t = np.sum(T1**2, 1).reshape(-1, 1) + np.sum(T2**2, 1) - 2 * np.dot(T1, T2.T)\n",
    "    return sigma_f**2 * np.exp(-0.5 / l**2 * sqdist - 0.5 / l_t**2 * sqdist_t)\n"
   ]
  },
  {
   "cell_type": "code",
   "execution_count": 31,
   "metadata": {},
   "outputs": [],
   "source": [
    "def single_rbf_kernel_space(x1, x2, l):\n",
    "    return jnp.exp(-jnp.linalg.norm(x1 - x2)**2 / (2 * l**2))\n",
    "def single_rbf_kernel_time(t1, t2, l):\n",
    "    return jnp.exp(-jnp.linalg.norm(t1 - t2)**2 / (2 * l**2))\n"
   ]
  },
  {
   "cell_type": "code",
   "execution_count": 34,
   "metadata": {},
   "outputs": [],
   "source": [
    "rbf_space = vmap(vmap(single_rbf_kernel_space, (None, 0, None)), (0, None, None))\n",
    "rbf_time = vmap(vmap(single_rbf_kernel_time, (None, 0, None)), (0, None, None))\n",
    "def kernel(XT,XT_bar,params):\n",
    "    assert XT.shape[1] == 3, \"XT must be a 3d array\"\n",
    "    \"\"\"computes the kernel for a problem with two spatial dimensions and one time dimension. \n",
    "       ARD is used for the spatial and time dimension. The two spatial dimensions have one length each(isotropic), the time dimension has a seperate length scale.\n",
    "\n",
    "    Args:\n",
    "        XT (array): batched input data with spatial and time dimension\n",
    "        YS (array): batched input data with spatial and time dimension\n",
    "        params (list): list of the parameters [l_x, sigma_f_sq, l_t]\n",
    "\n",
    "    Returns:\n",
    "        _type_: _description_\n",
    "    \"\"\"\n",
    "    X,T = XT[:,0:2], XT[:,2]\n",
    "    X_bar,T_bar = XT_bar[:,0:2], XT_bar[:,2]\n",
    "    return params[1] * rbf_space(X,X_bar,params[0]) * rbf_time(T,T_bar,params[2])"
   ]
  },
  {
   "cell_type": "code",
   "execution_count": 35,
   "metadata": {},
   "outputs": [
    {
     "name": "stdout",
     "output_type": "stream",
     "text": [
      "[[2.9375774e-01 4.3823501e-01 1.1706804e-01]\n",
      " [4.8935901e-05 2.1874933e-03 1.7509703e-02]\n",
      " [1.0060374e-12 1.3475183e-09 3.2319863e-07]]\n",
      "[[2.93757700e-01 4.38234992e-01 1.17068037e-01]\n",
      " [4.89358647e-05 2.18749112e-03 1.75097047e-02]\n",
      " [1.00603928e-12 1.34751996e-09 3.23198226e-07]]\n"
     ]
    }
   ],
   "source": [
    "print(kernel(full,full2,[1,1,1]))\n",
    "print(kernel_(X,x_bar,T,t_bar,1,1,1))"
   ]
  },
  {
   "cell_type": "code",
   "execution_count": 13,
   "metadata": {},
   "outputs": [
    {
     "name": "stdout",
     "output_type": "stream",
     "text": [
      "True\n"
     ]
    }
   ],
   "source": [
    "#test arrays\n",
    "X = np.random.rand(10,2)\n",
    "X_ = np.random.rand(10,2)\n",
    "@jit\n",
    "def k(x1, x2):\n",
    "        x = x1[:, 0][:, jnp.newaxis]\n",
    "        t = x1[:, 1][:, jnp.newaxis]\n",
    "        x_ = x2[:, 0][jnp.newaxis, :]\n",
    "        t_ = x2[:, 1][jnp.newaxis, :]\n",
    "        denom = 1 + (2 * (t + t_))\n",
    "        return jnp.exp(-(x - x_) ** 2 / (2 * denom)) / jnp.sqrt(denom)\n",
    "@jit\n",
    "def k_2(x1, x2):\n",
    "    x, t = x1[0], x1[1]\n",
    "    x_, t_ = x2[0], x2[1]\n",
    "    denom = 1 + (2 * (t + t_))\n",
    "    return jnp.exp(-(x - x_) ** 2 / (2 * denom)) / jnp.sqrt(denom)\n",
    "k_2 = vmap(vmap(k_2, (None, 0)), (0, None))\n",
    "k_2 = jit(k_2)\n",
    "print(np.allclose(k(X, X), k_2(X, X)))"
   ]
  },
  {
   "cell_type": "code",
   "execution_count": 14,
   "metadata": {},
   "outputs": [
    {
     "name": "stdout",
     "output_type": "stream",
     "text": [
      "7.77 µs ± 30.3 ns per loop (mean ± std. dev. of 7 runs, 100000 loops each)\n",
      "7.71 µs ± 37 ns per loop (mean ± std. dev. of 7 runs, 100000 loops each)\n"
     ]
    }
   ],
   "source": [
    "%timeit k(X,X)\n",
    "%timeit k_2(X,X)"
   ]
  },
  {
   "cell_type": "code",
   "execution_count": null,
   "metadata": {},
   "outputs": [],
   "source": []
  }
 ],
 "metadata": {
  "kernelspec": {
   "display_name": "base",
   "language": "python",
   "name": "python3"
  },
  "language_info": {
   "codemirror_mode": {
    "name": "ipython",
    "version": 3
   },
   "file_extension": ".py",
   "mimetype": "text/x-python",
   "name": "python",
   "nbconvert_exporter": "python",
   "pygments_lexer": "ipython3",
   "version": "3.9.13"
  },
  "orig_nbformat": 4
 },
 "nbformat": 4,
 "nbformat_minor": 2
}
