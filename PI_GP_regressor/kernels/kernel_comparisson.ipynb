{
 "cells": [
  {
   "cell_type": "code",
   "execution_count": 5,
   "metadata": {},
   "outputs": [],
   "source": [
    "import numpy as np\n",
    "import jax.numpy as jnp\n",
    "from jax import grad, jit, vmap\n",
    "from kernel_oscillator import k_uu, k_ff_jax, k_uf_jax, rbf_kernel_single, k_fu_jax"
   ]
  },
  {
   "cell_type": "code",
   "execution_count": 33,
   "metadata": {},
   "outputs": [],
   "source": [
    "@jit\n",
    "def k_uf(x, y, params):\n",
    "    m = 1\n",
    "    b = params[2]\n",
    "    k = params[3]\n",
    "    gamma = 0.5 / params[0]**2\n",
    "    #dt'^2\n",
    "    k_yy = 2*gamma*(2*gamma * (x-y)**2 - 1) * rbf_kernel_single(x, y, params)\n",
    "    #dt'\n",
    "    k_y = 2*gamma*(x-y) * rbf_kernel_single(x, y, params)\n",
    "    #no dev\n",
    "    k_normal = rbf_kernel_single(x, y, params)\n",
    "    return jnp.squeeze(m * k_yy + b * k_y + k * k_normal)\n",
    "k_uf = vmap(vmap(k_uf, (None, 0, None)), (0, None, None))\n",
    "#k_uf = jit(k_uf)\n",
    "\n",
    "def k_fu(x,y,params):\n",
    "    m = 1\n",
    "    b = params[2]\n",
    "    k = params[3]\n",
    "    gamma = 0.5 / params[0]**2\n",
    "    #dt^2\n",
    "    k_xx = 2*gamma*(2*gamma * (x-y)**2 - 1) * rbf_kernel_single(x, y, params)\n",
    "    #dt'\n",
    "    k_x = -2*gamma*(x-y) * rbf_kernel_single(x, y, params)\n",
    "    #no dev\n",
    "    k_normal = rbf_kernel_single(x, y, params)\n",
    "    return jnp.squeeze(m * k_xx + b * k_x + k * k_normal)\n",
    "k_fu = vmap(vmap(k_fu, (None, 0, None)), (0, None, None))\n",
    "#k_fu = jit(k_fu)"
   ]
  },
  {
   "cell_type": "code",
   "execution_count": 42,
   "metadata": {},
   "outputs": [],
   "source": [
    "def k_ff(x,y,params):\n",
    "    m = 1\n",
    "    b = params[2]\n",
    "    k = params[3]\n",
    "    gamma = 0.5 / params[0]**2\n",
    "    #dt^2 dt'^2\n",
    "    dif = (x-y)\n",
    "    k_xxyy = (16*gamma**4* dif**4 - 48*gamma**3*dif**2 + 12*gamma**2) * rbf_kernel_single(x,y,params)\n",
    "    #dt'^2\n",
    "    k_yy = 2*gamma*(2*gamma * (x-y)**2 - 1) * rbf_kernel_single(x, y, params)\n",
    "    #dtdt'\n",
    "    k_xy = (2*gamma - 4*gamma**2*dif**2) * rbf_kernel_single(x, y, params)\n",
    "    #no div\n",
    "    k_normal = rbf_kernel_single(x, y, params)\n",
    "    return m**2 * k_xxyy + 2*m*k*k_yy + b**2 * k_xy + k**2 * k_normal\n",
    "k_ff = vmap(vmap(k_ff, (None, 0, None)), (0, None, None))\n",
    "k_ff = jit(k_ff)"
   ]
  },
  {
   "cell_type": "code",
   "execution_count": 44,
   "metadata": {},
   "outputs": [
    {
     "name": "stdout",
     "output_type": "stream",
     "text": [
      "True\n",
      "True\n",
      "False\n"
     ]
    }
   ],
   "source": [
    "x = np.linspace(0, 10, 100).reshape(-1, 1)\n",
    "y = np.linspace(-30, 34, 100).reshape(-1, 1)\n",
    "params = np.array([1, 1, 1, 1])\n",
    "print(np.allclose(k_uf_jax(x, y, params), k_uf(x, y, params)))\n",
    "print(np.allclose(k_fu_jax(x, y, params), k_fu(x, y, params)))\n",
    "print(np.allclose(k_ff_jax(x, y, params), k_ff(x, y, params)))"
   ]
  },
  {
   "cell_type": "code",
   "execution_count": 54,
   "metadata": {},
   "outputs": [
    {
     "name": "stdout",
     "output_type": "stream",
     "text": [
      "[0.22313017 0.22313017 0.22313017 0.22313017]\n",
      "[0.082085   0.60653067 0.082085   0.60653067]\n",
      "[[0.8824969  0.32465246 0.8824969  0.32465246]\n",
      " [0.8824969  0.8824969  0.8824969  0.8824969 ]\n",
      " [0.32465246 0.8824969  0.32465246 0.8824969 ]\n",
      " [0.8824969  0.8824969  0.8824969  0.8824969 ]]\n",
      "--------\n",
      "[[0.8824969  0.8824969  0.32465246 0.8824969 ]\n",
      " [0.32465246 0.8824969  0.8824969  0.8824969 ]\n",
      " [0.8824969  0.8824969  0.32465246 0.8824969 ]\n",
      " [0.32465246 0.8824969  0.8824969  0.8824969 ]]\n",
      "[[0.88249689 0.32465246 0.88249689 0.32465246]\n",
      " [0.88249689 0.88249689 0.88249689 0.88249689]\n",
      " [0.32465246 0.88249689 0.32465246 0.88249689]\n",
      " [0.88249689 0.88249689 0.88249689 0.88249689]]\n"
     ]
    }
   ],
   "source": [
    "test1 = vmap(rbf_kernel_single, (None, 0, None))\n",
    "test2 = vmap(rbf_kernel_single, (0, None, None))\n",
    "test3 = vmap(vmap(rbf_kernel_single, (None, 0, None)), (0, None, None))\n",
    "test4 = vmap(vmap(rbf_kernel_single, (0, None, None)), (None, 0, None))\n",
    "X = np.array([1,2,3,2]).reshape(-1,1)\n",
    "Y = np.array([1.5,2.5,1.5,2.5]).reshape(-1,1)\n",
    "params = np.array([1,1,1,1])\n",
    "print(test1(X,Y,params))\n",
    "print(test2(X,Y,params))\n",
    "print(test3(X,Y,params))\n",
    "print(\"--------\")\n",
    "print(test4(X,Y,params))\n",
    "d = np.zeros((4,4))\n",
    "for i in range(4):\n",
    "    for j in range(4):\n",
    "        d[i,j] = rbf_kernel_single(X[i],Y[j],params)\n",
    "print(d)"
   ]
  }
 ],
 "metadata": {
  "kernelspec": {
   "display_name": "base",
   "language": "python",
   "name": "python3"
  },
  "language_info": {
   "codemirror_mode": {
    "name": "ipython",
    "version": 3
   },
   "file_extension": ".py",
   "mimetype": "text/x-python",
   "name": "python",
   "nbconvert_exporter": "python",
   "pygments_lexer": "ipython3",
   "version": "3.9.13"
  },
  "orig_nbformat": 4
 },
 "nbformat": 4,
 "nbformat_minor": 2
}
