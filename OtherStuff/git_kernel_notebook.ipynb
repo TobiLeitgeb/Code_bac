{
 "cells": [
  {
   "cell_type": "code",
   "execution_count": 1,
   "metadata": {},
   "outputs": [
    {
     "name": "stderr",
     "output_type": "stream",
     "text": [
      "No GPU/TPU found, falling back to CPU. (Set TF_CPP_MIN_LOG_LEVEL=0 and rerun for more info.)\n"
     ]
    }
   ],
   "source": [
    "#@title Packages\n",
    "import functools\n",
    "\n",
    "import jax\n",
    "import jax.numpy as jnp\n",
    "import numpy as onp\n",
    "from sklearn.metrics.pairwise import rbf_kernel as rbf_sklearn\n",
    "# Plotting libraries\n",
    "import matplotlib.pyplot as plt\n",
    "plt.style.use(['seaborn-paper'])\n",
    "#@title Plot Functions\n",
    "\n",
    "def plot_kernel_mat(K):\n",
    "    # plot\n",
    "    plt.figure()\n",
    "    plt.imshow(K, cmap='Reds')\n",
    "    plt.title(r'$K_{ff}$, (rbf)', fontsize=20, weight='bold')\n",
    "    plt.tight_layout()\n",
    "    plt.show()\n",
    "    #@title Data\n",
    "\n",
    "def get_1d_data(N=30, sigma_inputs=0.15, sigma_obs=0.15, N_test=400):\n",
    "    onp.random.seed(0)\n",
    "    X = jnp.linspace(-10, 10, N)\n",
    "    # Y = X + 0.2 * np.power(X, 3.0) + 0.5 * np.power(0.5 + X, 2.0) * np.sin(4.0 * X)\n",
    "    Y = jnp.sin(1.0 * jnp.pi / 1.6 * jnp.cos(5 + .5 * X))\n",
    "    Y += sigma_obs * onp.random.randn(N)\n",
    "    X += sigma_inputs * onp.random.randn(N)\n",
    "    Y -= jnp.mean(Y)\n",
    "    Y /= jnp.std(Y)\n",
    "\n",
    "\n",
    "\n",
    "    X_test = jnp.linspace(-11, 11, N_test) \n",
    "    X_test += sigma_inputs * onp.random.randn(N_test)\n",
    "\n",
    "    X = X[:, None]\n",
    "    X_test = X[:, None]\n",
    "\n",
    "    assert X.shape == (N,1)\n",
    "    assert Y.shape == (N,)\n",
    "\n",
    "    return X, Y, X_test\n",
    "\n",
    "def get_2d_data(N=30, sigma_obs=0.15, N_test=400):\n",
    "    onp.random.seed(0)\n",
    "    X1 = jnp.linspace(-10, 10, N)\n",
    "    X2 = jnp.linspace(-5, 2, N)\n",
    "    # Y = X + 0.2 * np.power(X, 3.0) + 0.5 * np.power(0.5 + X, 2.0) * np.sin(4.0 * X)\n",
    "    Y = jnp.sin(1.0 * jnp.pi / 1.6 * jnp.cos(5 + .5 * X1)) + jnp.exp(X2)\n",
    "    Y += sigma_obs * onp.random.randn(N)\n",
    "    Y -= jnp.mean(Y)\n",
    "    Y /= jnp.std(Y)\n",
    "\n",
    "\n",
    "\n",
    "    X1_test = jnp.linspace(-11, 11, N_test)\n",
    "    X2_test = jnp.linspace(-6, 4, N_test) \n",
    "\n",
    "    X = jnp.vstack((X1,X2)).T\n",
    "    X_test = jnp.vstack((X1_test,X2_test)).T\n",
    "\n",
    "    assert X.shape == (N,2)\n",
    "    assert Y.shape == (N,)\n",
    "\n",
    "    return X, Y, X_test\n",
    "\n",
    "# Get Data\n",
    "X, Y, X_test = get_1d_data(100, sigma_inputs=0.0, sigma_obs=0.1, N_test=100)"
   ]
  },
  {
   "cell_type": "code",
   "execution_count": 2,
   "metadata": {},
   "outputs": [],
   "source": [
    "#@title Kernel Functions\n",
    "\n",
    "# Squared Euclidean Distance Formula\n",
    "@jax.jit\n",
    "def sqeuclidean_distance(x, y):\n",
    "    return jnp.sum((x-y)**2)\n",
    "\n",
    "# RBF Kernel\n",
    "@jax.jit\n",
    "def rbf_kernel(params, x, y):\n",
    "    return jnp.exp( - params['gamma'] * sqeuclidean_distance(x, y))\n",
    "    \n",
    "# Covariance Matrix\n",
    "def covariance_matrix(kernel_func, x, y):\n",
    "    mapx1 = jax.vmap(lambda x, y: kernel_func(x, y), in_axes=(0, None), out_axes=0)\n",
    "    mapx2 = jax.vmap(lambda x, y: mapx1(x, y), in_axes=(None, 0), out_axes=1)\n",
    "    return mapx2(x, y)"
   ]
  },
  {
   "cell_type": "code",
   "execution_count": 3,
   "metadata": {},
   "outputs": [
    {
     "name": "stdout",
     "output_type": "stream",
     "text": [
      "(1, 1) (1, 2)\n"
     ]
    }
   ],
   "source": [
    "X, Y, X_test = get_2d_data(10, sigma_obs=0.1)\n",
    "\n",
    "test_X = X[:1, :]\n",
    "test_Y = X[:1, :]\n",
    "\n",
    "rbf_x_sk = rbf_sklearn(\n",
    "    onp.array(test_X.reshape(1, -1)), \n",
    "    onp.array(test_Y.reshape(1, -1)), \n",
    "    gamma=1.0\n",
    ")\n",
    "print(rbf_x_sk.shape, test_X.shape)\n",
    "\n",
    "params = {'gamma': 1.0, 'var_f': 1.0}\n",
    "gamma = 1.0\n",
    "rbf_k_ = functools.partial(rbf_kernel, params)\n",
    "rbf_x = rbf_k_(\n",
    "    test_X.squeeze(), \n",
    "    test_Y.squeeze()\n",
    ")\n",
    "\n",
    "onp.testing.assert_array_almost_equal(onp.array(rbf_x), rbf_x_sk)"
   ]
  },
  {
   "cell_type": "code",
   "execution_count": 4,
   "metadata": {},
   "outputs": [],
   "source": [
    "# Gram Matrix\n",
    "def gram(func, x, y):\n",
    "    return jax.vmap(lambda x1: jax.vmap(lambda y1: func(x1, y1))(y))(x)"
   ]
  },
  {
   "cell_type": "code",
   "execution_count": 6,
   "metadata": {},
   "outputs": [],
   "source": [
    "# map function 1\n",
    "mapx1 = jax.vmap(lambda x, y: rbf_kernel(params, x, y), in_axes=(0, None), out_axes=0)\n",
    "\n",
    "# test the mapping\n",
    "x1_mapped = mapx1(X, X[0, :])\n",
    "\n",
    "# Check output shapes, # of dimensions\n",
    "assert x1_mapped.shape[0] == X.shape[0]   \n",
    "assert jnp.ndim(x1_mapped) == 1   \n",
    "\n",
    "\n",
    "mapx2 = jax.vmap(lambda x, y: mapx1(x, y), in_axes=(None, 0), out_axes=1)\n",
    "\n",
    "K = mapx2(X, X)\n",
    "\n",
    "# Check output shapes, # of dimensions\n",
    "assert K.shape[0] == X.shape[0], X.shape[0]   \n",
    "assert jnp.ndim(K) == 2     \n",
    "\n",
    "rbf_x_sk = rbf_sklearn(X, X, 1.0)\n",
    "\n",
    "\n",
    "onp.testing.assert_array_almost_equal(onp.array(rbf_x_sk), K)"
   ]
  },
  {
   "cell_type": "code",
   "execution_count": 7,
   "metadata": {},
   "outputs": [
    {
     "data": {
      "image/png": "[encoded data removed]",
      "text/plain": [
       "<Figure size 640x440 with 1 Axes>"
      ]
     },
     "metadata": {},
     "output_type": "display_data"
    }
   ],
   "source": [
    "X, Y, X_test = get_2d_data(10, sigma_obs=0.1)\n",
    "\n",
    "test_X = X.copy()#[:2, :]\n",
    "test_Y = X.copy() #[:2, :]\n",
    "\n",
    "rbf_x_sk = rbf_sklearn(\n",
    "    onp.array(test_X), \n",
    "    onp.array(test_Y), \n",
    "    gamma=1.0\n",
    ")\n",
    "\n",
    "params = {'gamma': 1.0, 'var_f': 1.0}\n",
    "rbf_k_ = functools.partial(rbf_kernel, params)\n",
    "rbf_x = covariance_matrix(\n",
    "    rbf_k_,\n",
    "    test_X, \n",
    "    test_Y\n",
    ")\n",
    "\n",
    "onp.testing.assert_array_almost_equal(onp.array(rbf_x), rbf_x_sk)\n",
    "\n",
    "plot_kernel_mat(rbf_x)"
   ]
  },
  {
   "cell_type": "code",
   "execution_count": 8,
   "metadata": {},
   "outputs": [],
   "source": [
    "#@title Tests\n",
    "\n",
    "kx = rbf_kernel(params, X[0], X[0])\n",
    "\n",
    "# check, the output should be 1.0\n",
    "assert kx == 1.0, f\"Output: {kx}\"\n",
    "\n",
    "kx = rbf_kernel(params, X[0], X[1])\n",
    "\n",
    "# check, the output should NOT be 1.0\n",
    "assert kx != 1.0, f\"Output: {kx}\"\n",
    "\n",
    "\n",
    "# dk_dx = drbf_kernel(gamma, X[0], X[0])\n",
    "\n",
    "# # check, the output should be 0.0\n",
    "# assert dk_dx == 0.0, f\"Output: {dk_dx}\"\n",
    "\n",
    "# dk_dx = drbf_kernel(gamma, X[0], X[1])\n",
    "\n",
    "# # check, the output should NOT be 0.0\n",
    "# assert dk_dx != 0.0, f\"Output: {dk_dx}\""
   ]
  },
  {
   "cell_type": "code",
   "execution_count": 9,
   "metadata": {},
   "outputs": [],
   "source": [
    "#@title Speed Test\n",
    "    \n",
    "# Covariance Matrix\n",
    "def covariance_matrix(kernel_func, x, y):\n",
    "    mapx1 = jax.vmap(lambda x, y: kernel_func(x, y), in_axes=(0, None), out_axes=0)\n",
    "    mapx2 = jax.vmap(lambda x, y: mapx1(x, y), in_axes=(None, 0), out_axes=1)\n",
    "    return mapx2(x, y)\n",
    "\n",
    "def gram(func, x, y):\n",
    "    return jax.vmap(lambda x1: jax.vmap(lambda y1: func(x1, y1))(x))(y)\n",
    "\n",
    "rbf_K = functools.partial(rbf_kernel, params)\n",
    "rbf_cov =  jax.jit(functools.partial(covariance_matrix, rbf_K))\n",
    "rbf_x = rbf_cov(test_X,  test_Y)\n",
    "\n",
    "\n",
    "rbf_cov2 =  jax.jit(functools.partial(gram, rbf_K))\n",
    "rbf_x2 = rbf_cov2(test_X,  test_Y)\n",
    "\n",
    "onp.testing.assert_array_almost_equal(onp.array(rbf_x), onp.array(rbf_x2))"
   ]
  },
  {
   "cell_type": "code",
   "execution_count": 10,
   "metadata": {},
   "outputs": [
    {
     "name": "stdout",
     "output_type": "stream",
     "text": [
      "5.69 µs ± 90 ns per loop (mean ± std. dev. of 7 runs, 100000 loops each)\n",
      "5.71 µs ± 95.7 ns per loop (mean ± std. dev. of 7 runs, 100000 loops each)\n"
     ]
    }
   ],
   "source": [
    "%timeit _ = rbf_cov(test_X,  test_Y)\n",
    "%timeit _ = rbf_cov2(test_X,  test_Y)"
   ]
  },
  {
   "cell_type": "code",
   "execution_count": 11,
   "metadata": {},
   "outputs": [],
   "source": [
    "X, Y, X_test = get_1d_data(10, sigma_obs=0.1)\n",
    "\n",
    "test_X = X[0:1, :]\n",
    "test_Y = X[1:2, :]"
   ]
  },
  {
   "cell_type": "code",
   "execution_count": 18,
   "metadata": {},
   "outputs": [],
   "source": [
    "def drbf_kernel_scratch(gamma, X, Y):\n",
    "    # initialize matrix\n",
    "    dK_fg_ = onp.empty(X.shape[-1])\n",
    "    \n",
    "    constant = - 2 * gamma\n",
    "    \n",
    "    # calculate kernel matrix w. sklearn kernel\n",
    "    k_val = rbf_sklearn(onp.array(X), onp.array(Y), gamma=gamma)\n",
    "    \n",
    "    # loop through features/dimensions\n",
    "    for idim in range(X.shape[1]):\n",
    "        \n",
    "        x_val = X[:, idim] - Y[:, idim]\n",
    "\n",
    "        dK_fg_[idim] = constant * k_val *  x_val \n",
    "    return dK_fg_"
   ]
  },
  {
   "cell_type": "code",
   "execution_count": 19,
   "metadata": {},
   "outputs": [
    {
     "data": {
      "text/plain": [
       "Array(0.00287879, dtype=float32)"
      ]
     },
     "execution_count": 19,
     "metadata": {},
     "output_type": "execute_result"
    }
   ],
   "source": [
    "dK_fg_ = drbf_kernel_scratch(gamma, test_X, test_Y)\n",
    "rbf_kernel(params, test_X[0,:], test_Y[0,:])"
   ]
  },
  {
   "cell_type": "code",
   "execution_count": 21,
   "metadata": {},
   "outputs": [],
   "source": [
    "# define the cross operator K_fg(x, y), dK wrt x\n",
    "drbf_kernel_fg = jax.jacobian(rbf_kernel, argnums=(1))\n",
    "\n",
    "# calculate for a single sample\n",
    "dK_fg = drbf_kernel_fg(params, test_X[0,:], test_Y[0,:])\n",
    "\n",
    "# check theyre the same\n",
    "assert dK_fg.all() == dK_fg_.all()"
   ]
  },
  {
   "cell_type": "code",
   "execution_count": 22,
   "metadata": {},
   "outputs": [],
   "source": [
    "# generate some data\n",
    "X, Y, X_test = get_2d_data(10, sigma_obs=0.1)\n",
    "\n",
    "# extract a single sample\n",
    "test_X = X[0:1, :]\n",
    "test_Y = X[1:2, :]"
   ]
  },
  {
   "cell_type": "code",
   "execution_count": 23,
   "metadata": {},
   "outputs": [],
   "source": [
    "dK_fg_ = drbf_kernel_scratch(gamma, test_X, test_Y)"
   ]
  },
  {
   "cell_type": "code",
   "execution_count": 24,
   "metadata": {},
   "outputs": [],
   "source": [
    "# define the cross operator K_fg(x, y), dK wrt x\n",
    "drbf_kernel_fg = jax.jacobian(rbf_kernel, argnums=(1))\n",
    "\n",
    "# calculate for a single sample\n",
    "dK_fg = drbf_kernel_fg(params, test_X[0,:], test_Y[0,:])\n",
    "\n",
    "# check theyre the same\n",
    "assert dK_fg.all() == dK_fg_.all()"
   ]
  },
  {
   "cell_type": "code",
   "execution_count": 25,
   "metadata": {},
   "outputs": [],
   "source": [
    "X, Y, X_test = get_2d_data(10, sigma_obs=0.1)\n",
    "\n",
    "test_X = X\n",
    "test_Y = X"
   ]
  },
  {
   "cell_type": "code",
   "execution_count": 26,
   "metadata": {},
   "outputs": [],
   "source": [
    "dK_fg_ = onp.empty((test_X.shape[0], test_X.shape[0], test_X.shape[1]))\n",
    "\n",
    "for i in range(test_X.shape[0]):\n",
    "    for j in range(test_Y.shape[0]):\n",
    "        \n",
    "        dK_fg_[i, j, :] = drbf_kernel_scratch(gamma, onp.array(test_X[i, :]).reshape(1,-1), onp.array(test_Y[j, :]).reshape(1, -1))"
   ]
  },
  {
   "cell_type": "code",
   "execution_count": 27,
   "metadata": {},
   "outputs": [],
   "source": [
    "# define the cross operator K_fg(x, y), dK wrt x\n",
    "drbf_kernel_fg = jax.jacobian(rbf_kernel, argnums=(1))\n",
    "\n",
    "K_func = functools.partial(drbf_kernel_fg, params)\n",
    "\n",
    "# calculate kernel matrix\n",
    "dK_fg = gram(K_func, test_X, test_Y)\n",
    "\n",
    "\n",
    "# check\n",
    "onp.testing.assert_array_almost_equal(onp.array(dK_fg), dK_fg_)"
   ]
  },
  {
   "cell_type": "code",
   "execution_count": 28,
   "metadata": {},
   "outputs": [],
   "source": [
    "def d2rbf_kernel_scratch_jac(gamma, X, Y):\n",
    "    d2K_fg2_ = onp.empty(X.shape[-1])\n",
    "    \n",
    "    constant = 2 * gamma\n",
    "    \n",
    "    k_val = rbf_sklearn(onp.array(X), onp.array(Y), gamma=gamma)\n",
    "    \n",
    "    for idim in range(X.shape[1]):\n",
    "        \n",
    "        # compute the xterm: 2 gamma (xj - yj)^2\n",
    "        x_val = constant * (X[:, idim] - Y[:, idim]) ** 2 - 1\n",
    "\n",
    "        # compute the derivative term\n",
    "        d2K_fg2_[idim] = constant * x_val * k_val \n",
    "    return d2K_fg2_"
   ]
  },
  {
   "cell_type": "code",
   "execution_count": 29,
   "metadata": {},
   "outputs": [],
   "source": [
    "# initialize matrix\n",
    "d2K_fg2_ = onp.empty((test_X.shape[0], test_X.shape[0], test_X.shape[1]))\n",
    "\n",
    "for i in range(test_X.shape[0]):\n",
    "    for j in range(test_Y.shape[0]):\n",
    "        \n",
    "        d2K_fg2_[i, j, :] = d2rbf_kernel_scratch_jac(gamma, onp.array(test_X[i, :]).reshape(1,-1), onp.array(test_Y[j, :]).reshape(1, -1))"
   ]
  },
  {
   "cell_type": "code",
   "execution_count": 30,
   "metadata": {},
   "outputs": [
    {
     "data": {
      "text/plain": [
       "(10, 10, 2)"
      ]
     },
     "execution_count": 30,
     "metadata": {},
     "output_type": "execute_result"
    }
   ],
   "source": [
    "# define the cross operator K_fg(x, y), dK wrt x\n",
    "dK_fg_func = jax.hessian(rbf_kernel, argnums=(1))\n",
    "\n",
    "# fix params for kernel function\n",
    "K_func = functools.partial(dK_fg_func, params)\n",
    "\n",
    "# calculate kernel matrix\n",
    "d2K_fg2 = covariance_matrix(K_func, test_X, test_Y)\n",
    "\n",
    "# get the diagonal terms\n",
    "d2K_fg2 = jnp.diagonal(d2K_fg2, axis1=2, axis2=3)\n",
    "\n",
    "d2K_fg2.shape"
   ]
  },
  {
   "cell_type": "code",
   "execution_count": 31,
   "metadata": {},
   "outputs": [],
   "source": [
    "onp.testing.assert_array_almost_equal(onp.array(d2K_fg2), d2K_fg2_)"
   ]
  },
  {
   "cell_type": "code",
   "execution_count": null,
   "metadata": {},
   "outputs": [],
   "source": []
  }
 ],
 "metadata": {
  "kernelspec": {
   "display_name": "base",
   "language": "python",
   "name": "python3"
  },
  "language_info": {
   "codemirror_mode": {
    "name": "ipython",
    "version": 3
   },
   "file_extension": ".py",
   "mimetype": "text/x-python",
   "name": "python",
   "nbconvert_exporter": "python",
   "pygments_lexer": "ipython3",
   "version": "3.9.13"
  },
  "orig_nbformat": 4
 },
 "nbformat": 4,
 "nbformat_minor": 2
}
