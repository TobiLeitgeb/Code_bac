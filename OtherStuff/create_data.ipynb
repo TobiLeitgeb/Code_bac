import numpy as np
import matplotlib.pyplot as plt
from scipy.optimize import minimize

def F_doublependulum(vector: np.ndarray, t_n) -> np.ndarray:  #gets vector with theta_1, theta_2, p_1, p_2
    """ sets the system of differential equations for the double pendulum with m=l=1

    Args:
        vector (np.ndarray): vector in phase space (theta_1, theta_2, p_1, p_2)
        t_n (_type_): _description_

    Returns:
        np.ndarray: (theta_dot_1, theta_dot_2, p_dot_1, p_dot_2)
    """
    theta_1 = vector[0]
    theta_2 = vector[1]
    p_1 = vector[2]
    p_2 = vector[3]


    theta_dot_1 = (p_1 - p_2*np.cos(theta_1 - theta_2))/(1 + np.sin(theta_1 - theta_2)**2)
    theta_dot_2 = (2*p_2 - p_1*np.cos(theta_1 - theta_2)) /(1 + np.sin(theta_1 - theta_2)**2)
    
    A = (p_1*p_2*np.sin(theta_1 - theta_2))/(1 + np.sin(theta_1 - theta_2)**2)
    B = (p_1**2 + 2*p_2**2 - 2*p_1*p_2*np.cos(theta_1 - theta_2)) / ((1 + np.sin(theta_1 - theta_2)**2))**2 * np.sin(theta_1-theta_2)*np.cos(theta_1 - theta_2)
    
    omega_squared = 9.81

    p_dot_1 = -A + B - 2*omega_squared * np.sin(theta_1)  
    p_dot_2 = A - B - omega_squared*np.sin(theta_2)

    return np.array([theta_dot_1, theta_dot_2, p_dot_1, p_dot_2])