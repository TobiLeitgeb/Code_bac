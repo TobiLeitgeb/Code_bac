{
 "cells": [
  {
   "cell_type": "code",
   "execution_count": 1,
   "metadata": {},
   "outputs": [],
   "source": [
    "from kernel_helmholtz import k_ff_jax, k_fu_jax, k_uf_jax, rbf_kernel_single_x, rbf_kernel_single_t, k_ff, k_uf, k_fu, k_uu\n",
    "import numpy as np\n",
    "from jax import grad, jit, vmap\n",
    "import jax.numpy as jnp\n",
    "\n"
   ]
  },
  {
   "cell_type": "code",
   "execution_count": 16,
   "metadata": {},
   "outputs": [],
   "source": [
    "x = np.linspace(-5,5,15)\n",
    "y = np.linspace(-2,3,15)\n",
    "t = np.linspace(0,1,15)\n",
    "s = np.linspace(0,2,15)\n",
    "xt = np.hstack((x.reshape(-1,1),t.reshape(-1,1)))\n",
    "ys = np.hstack((y.reshape(-1,1),s.reshape(-1,1)))\n",
    "params = [1,1,1,1]"
   ]
  },
  {
   "cell_type": "code",
   "execution_count": 17,
   "metadata": {},
   "outputs": [
    {
     "name": "stdout",
     "output_type": "stream",
     "text": [
      "Traced<ShapedArray(float32[2])>with<BatchTrace(level=2/0)> with\n",
      "  val = Traced<ShapedArray(float32[15,2])>with<DynamicJaxprTrace(level=1/0)>\n",
      "  batch_dim = 0\n",
      "True\n",
      "Traced<ShapedArray(float32[])>with<BatchTrace(level=3/0)> with\n",
      "  val = Traced<ShapedArray(float32[15])>with<BatchTrace(level=2/0)> with\n",
      "    val = Traced<ShapedArray(float32[15,15])>with<DynamicJaxprTrace(level=1/0)>\n",
      "    batch_dim = 0\n",
      "  batch_dim = 0\n",
      "Traced<ShapedArray(float32[15,15])>with<DynamicJaxprTrace(level=1/0)>\n",
      "False\n",
      "False\n"
     ]
    }
   ],
   "source": [
    "print(np.allclose(k_ff(xt,ys,params),k_ff_jax(xt,ys,params)))\n",
    "print(np.allclose(k_uf(xt,ys,params),k_uf_jax(xt,ys,params)))\n",
    "print(np.allclose(k_fu(xt,ys,params),k_fu_jax(xt,ys,params)))"
   ]
  },
  {
   "cell_type": "code",
   "execution_count": 6,
   "metadata": {},
   "outputs": [
    {
     "name": "stdout",
     "output_type": "stream",
     "text": [
      "[[-1.2096275e-02  5.1417255e-15]\n",
      " [-2.5165852e-20 -5.4946918e-02]]\n",
      "Traced<ShapedArray(float32[2,2])>with<DynamicJaxprTrace(level=1/0)>\n",
      "[[-9.9980973e-02 -1.0283450e-13]\n",
      " [-6.6662131e-10 -2.4625501e-01]]\n"
     ]
    }
   ],
   "source": [
    "print(k_uf(xt,ys,params))\n",
    "print(k_uf_jax(xt,ys,params))"
   ]
  },
  {
   "cell_type": "code",
   "execution_count": 7,
   "metadata": {},
   "outputs": [
    {
     "name": "stdout",
     "output_type": "stream",
     "text": [
      "Traced<ShapedArray(float32[2])>with<BatchTrace(level=2/0)> with\n",
      "  val = Traced<ShapedArray(float32[2,2])>with<DynamicJaxprTrace(level=1/0)>\n",
      "  batch_dim = 0\n",
      "[[ 5.4434085e-01  5.7107426e-12]\n",
      " [ 2.9275787e-08 -5.7459497e-01]] \n",
      "\n",
      "[[ 5.4434079e-01  5.7107426e-12]\n",
      " [ 2.9275787e-08 -5.7459497e-01]] \n",
      "\n"
     ]
    }
   ],
   "source": [
    "print(k_ff(xt,ys,params),'\\n')\n",
    "print(k_ff_jax(xt,ys,params),'\\n')"
   ]
  }
 ],
 "metadata": {
  "kernelspec": {
   "display_name": "base",
   "language": "python",
   "name": "python3"
  },
  "language_info": {
   "codemirror_mode": {
    "name": "ipython",
    "version": 3
   },
   "file_extension": ".py",
   "mimetype": "text/x-python",
   "name": "python",
   "nbconvert_exporter": "python",
   "pygments_lexer": "ipython3",
   "version": "3.9.13"
  },
  "orig_nbformat": 4
 },
 "nbformat": 4,
 "nbformat_minor": 2
}
