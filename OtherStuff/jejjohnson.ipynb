{
 "cells": [
  {
   "cell_type": "code",
   "execution_count": 65,
   "metadata": {},
   "outputs": [],
   "source": [
    "#@title Packages\n",
    "import functools\n",
    "\n",
    "import jax\n",
    "import jax.numpy as jnp\n",
    "import numpy as onp\n",
    "from sklearn.metrics.pairwise import rbf_kernel as rbf_sklearn\n",
    "# Plotting libraries\n",
    "import matplotlib.pyplot as plt\n",
    "plt.style.use(['seaborn-paper'])"
   ]
  },
  {
   "cell_type": "code",
   "execution_count": 66,
   "metadata": {},
   "outputs": [],
   "source": [
    "#@title Plot Functions\n",
    "\n",
    "def plot_kernel_mat(K):\n",
    "    # plot\n",
    "    plt.figure()\n",
    "    plt.imshow(K, cmap='Reds')\n",
    "    plt.title(r'$K_{ff}$, (rbf)', fontsize=20, weight='bold')\n",
    "    plt.tight_layout()\n",
    "    plt.show()"
   ]
  },
  {
   "cell_type": "code",
   "execution_count": 67,
   "metadata": {},
   "outputs": [],
   "source": [
    "#@title Data\n",
    "\n",
    "def get_1d_data(N=30, sigma_inputs=0.15, sigma_obs=0.15, N_test=400):\n",
    "    onp.random.seed(0)\n",
    "    X = jnp.linspace(-10, 10, N)\n",
    "    # Y = X + 0.2 * np.power(X, 3.0) + 0.5 * np.power(0.5 + X, 2.0) * np.sin(4.0 * X)\n",
    "    Y = jnp.sin(1.0 * jnp.pi / 1.6 * jnp.cos(5 + .5 * X))\n",
    "    Y += sigma_obs * onp.random.randn(N)\n",
    "    X += sigma_inputs * onp.random.randn(N)\n",
    "    Y -= jnp.mean(Y)\n",
    "    Y /= jnp.std(Y)\n",
    "\n",
    "\n",
    "\n",
    "    X_test = jnp.linspace(-11, 11, N_test) \n",
    "    X_test += sigma_inputs * onp.random.randn(N_test)\n",
    "\n",
    "    X = X[:, None]\n",
    "    X_test = X[:, None]\n",
    "\n",
    "    assert X.shape == (N,1)\n",
    "    assert Y.shape == (N,)\n",
    "\n",
    "    return X, Y, X_test\n",
    "\n",
    "def get_2d_data(N=30, sigma_obs=0.15, N_test=400):\n",
    "    onp.random.seed(0)\n",
    "    X1 = jnp.linspace(-10, 10, N)\n",
    "    X2 = jnp.linspace(-5, 2, N)\n",
    "    # Y = X + 0.2 * np.power(X, 3.0) + 0.5 * np.power(0.5 + X, 2.0) * np.sin(4.0 * X)\n",
    "    Y = jnp.sin(1.0 * jnp.pi / 1.6 * jnp.cos(5 + .5 * X1)) + jnp.exp(X2)\n",
    "    Y += sigma_obs * onp.random.randn(N)\n",
    "    Y -= jnp.mean(Y)\n",
    "    Y /= jnp.std(Y)\n",
    "\n",
    "\n",
    "\n",
    "    X1_test = jnp.linspace(-11, 11, N_test)\n",
    "    X2_test = jnp.linspace(-6, 4, N_test) \n",
    "\n",
    "    X = jnp.vstack((X1,X2)).T\n",
    "    X_test = jnp.vstack((X1_test,X2_test)).T\n",
    "\n",
    "    assert X.shape == (N,2)\n",
    "    assert Y.shape == (N,)\n",
    "\n",
    "    return X, Y, X_test\n",
    "\n",
    "# Get Data\n",
    "X, Y, X_test = get_1d_data(100, sigma_inputs=0.0, sigma_obs=0.1, N_test=100)"
   ]
  },
  {
   "cell_type": "code",
   "execution_count": 68,
   "metadata": {},
   "outputs": [],
   "source": [
    "#@title Kernel Functions\n",
    "\n",
    "# Squared Euclidean Distance Formula\n",
    "@jax.jit\n",
    "def sqeuclidean_distance(x, y):\n",
    "    return jnp.sum((x-y)**2)\n",
    "\n",
    "# RBF Kernel\n",
    "@jax.jit\n",
    "def rbf_kernel(params, x, y):\n",
    "    return jnp.exp( - params['gamma'] * sqeuclidean_distance(x, y))\n",
    "    \n",
    "# Covariance Matrix\n",
    "def covariance_matrix(kernel_func, x, y):\n",
    "    mapx1 = jax.vmap(lambda x, y: kernel_func(x, y), in_axes=(0, None), out_axes=0)\n",
    "    mapx2 = jax.vmap(lambda x, y: mapx1(x, y), in_axes=(None, 0), out_axes=1)\n",
    "    return mapx2(x, y)"
   ]
  },
  {
   "cell_type": "code",
   "execution_count": 69,
   "metadata": {},
   "outputs": [
    {
     "name": "stdout",
     "output_type": "stream",
     "text": [
      "(1, 1) (1, 2)\n"
     ]
    }
   ],
   "source": [
    "X, Y, X_test = get_2d_data(10, sigma_obs=0.1)\n",
    "\n",
    "test_X = X[:1, :]\n",
    "test_Y = X[:1, :]\n",
    "\n",
    "rbf_x_sk = rbf_sklearn(\n",
    "    onp.array(test_X.reshape(1, -1)), \n",
    "    onp.array(test_Y.reshape(1, -1)), \n",
    "    gamma=1.0\n",
    ")\n",
    "print(rbf_x_sk.shape, test_X.shape)\n",
    "\n",
    "params = {'gamma': 1.0, 'var_f': 1.0}\n",
    "gamma = 1.0\n",
    "rbf_k_ = functools.partial(rbf_kernel, params)\n",
    "rbf_x = rbf_k_(\n",
    "    test_X.squeeze(), \n",
    "    test_Y.squeeze()\n",
    ")\n",
    "\n",
    "onp.testing.assert_array_almost_equal(onp.array(rbf_x), rbf_x_sk)"
   ]
  },
  {
   "cell_type": "code",
   "execution_count": 70,
   "metadata": {},
   "outputs": [
    {
     "data": {
      "image/png": "[encoded data removed]",
      "text/plain": [
       "<Figure size 640x440 with 1 Axes>"
      ]
     },
     "metadata": {},
     "output_type": "display_data"
    }
   ],
   "source": [
    "X, Y, X_test = get_2d_data(10, sigma_obs=0.1)\n",
    "\n",
    "test_X = X.copy()#[:2, :]\n",
    "test_Y = X.copy() #[:2, :]\n",
    "\n",
    "rbf_x_sk = rbf_sklearn(\n",
    "    onp.array(test_X), \n",
    "    onp.array(test_Y), \n",
    "    gamma=1.0\n",
    ")\n",
    "\n",
    "params = {'gamma': 1.0, 'var_f': 1.0}\n",
    "rbf_k_ = functools.partial(rbf_kernel, params)\n",
    "rbf_x = covariance_matrix(\n",
    "    rbf_k_,\n",
    "    test_X, \n",
    "    test_Y\n",
    ")\n",
    "\n",
    "onp.testing.assert_array_almost_equal(onp.array(rbf_x), rbf_x_sk)\n",
    "\n",
    "plot_kernel_mat(rbf_x)"
   ]
  },
  {
   "cell_type": "code",
   "execution_count": 71,
   "metadata": {},
   "outputs": [
    {
     "name": "stdout",
     "output_type": "stream",
     "text": [
      "(1, 1) (1, 1)\n"
     ]
    }
   ],
   "source": [
    "X, Y, X_test = get_1d_data(10, sigma_obs=0.1)\n",
    "\n",
    "test_X = X[0:1, :]\n",
    "test_Y = X[1:2, :]\n",
    "print(test_X.shape, test_Y.shape)"
   ]
  },
  {
   "cell_type": "code",
   "execution_count": 72,
   "metadata": {},
   "outputs": [
    {
     "data": {
      "text/plain": [
       "array([0.01392619])"
      ]
     },
     "execution_count": 72,
     "metadata": {},
     "output_type": "execute_result"
    }
   ],
   "source": [
    "def drbf_kernel_scratch(gamma, X, Y):\n",
    "    # initialize matrix\n",
    "    dK_fg_ = onp.empty(X.shape[-1])\n",
    "    \n",
    "    constant = - 2 * gamma\n",
    "    \n",
    "    # calculate kernel matrix w. sklearn kernel\n",
    "    k_val = rbf_sklearn(onp.array(X), onp.array(Y), gamma=gamma)\n",
    "    \n",
    "    # loop through features/dimensions\n",
    "    for idim in range(X.shape[1]):\n",
    "        \n",
    "        x_val = X[:, idim] - Y[:, idim]\n",
    "\n",
    "        dK_fg_[idim] = constant * k_val *  x_val \n",
    "    return dK_fg_\n",
    "\n",
    "drbf_kernel_scratch(1.0, test_X, test_Y)\n"
   ]
  },
  {
   "cell_type": "code",
   "execution_count": 73,
   "metadata": {},
   "outputs": [],
   "source": [
    "X, Y, X_test = get_1d_data(10, sigma_obs=0.1)\n",
    "\n",
    "test_X = X\n",
    "test_Y = X"
   ]
  },
  {
   "cell_type": "code",
   "execution_count": 74,
   "metadata": {},
   "outputs": [
    {
     "data": {
      "text/plain": [
       "(10, 10)"
      ]
     },
     "execution_count": 74,
     "metadata": {},
     "output_type": "execute_result"
    }
   ],
   "source": [
    "dK_fg_ = onp.empty((test_X.shape[0], test_X.shape[0]))\n",
    "\n",
    "for i in range(test_X.shape[0]):\n",
    "    for j in range(test_Y.shape[0]):\n",
    "        \n",
    "        dK_fg_[i, j] = drbf_kernel_scratch(gamma, onp.array(test_X[i, :]).reshape(1,-1), onp.array(test_Y[j, :]).reshape(1, -1))\n",
    "dK_fg_.shape"
   ]
  },
  {
   "cell_type": "code",
   "execution_count": 63,
   "metadata": {},
   "outputs": [
    {
     "ename": "ValueError",
     "evalue": "setting an array element with a sequence.",
     "output_type": "error",
     "traceback": [
      "\u001b[1;31m---------------------------------------------------------------------------\u001b[0m",
      "\u001b[1;31mTypeError\u001b[0m                                 Traceback (most recent call last)",
      "\u001b[1;32mc:\\Users\\Razer\\anaconda3\\lib\\site-packages\\jax\\_src\\array.py\u001b[0m in \u001b[0;36m__float__\u001b[1;34m(self)\u001b[0m\n\u001b[0;32m    262\u001b[0m   \u001b[1;32mdef\u001b[0m \u001b[0m__float__\u001b[0m\u001b[1;33m(\u001b[0m\u001b[0mself\u001b[0m\u001b[1;33m)\u001b[0m\u001b[1;33m:\u001b[0m\u001b[1;33m\u001b[0m\u001b[1;33m\u001b[0m\u001b[0m\n\u001b[1;32m--> 263\u001b[1;33m     \u001b[1;32mreturn\u001b[0m \u001b[0mself\u001b[0m\u001b[1;33m.\u001b[0m\u001b[0m_value\u001b[0m\u001b[1;33m.\u001b[0m\u001b[0m__float__\u001b[0m\u001b[1;33m(\u001b[0m\u001b[1;33m)\u001b[0m\u001b[1;33m\u001b[0m\u001b[1;33m\u001b[0m\u001b[0m\n\u001b[0m\u001b[0;32m    264\u001b[0m \u001b[1;33m\u001b[0m\u001b[0m\n",
      "\u001b[1;31mTypeError\u001b[0m: only size-1 arrays can be converted to Python scalars",
      "\nThe above exception was the direct cause of the following exception:\n",
      "\u001b[1;31mValueError\u001b[0m                                Traceback (most recent call last)",
      "\u001b[1;32m~\\AppData\\Local\\Temp\\ipykernel_45700\\1269332392.py\u001b[0m in \u001b[0;36m<module>\u001b[1;34m\u001b[0m\n\u001b[0;32m     14\u001b[0m         \u001b[0md2K_fg2_\u001b[0m\u001b[1;33m[\u001b[0m\u001b[0midim\u001b[0m\u001b[1;33m]\u001b[0m \u001b[1;33m=\u001b[0m \u001b[0mconstant\u001b[0m \u001b[1;33m*\u001b[0m \u001b[0mx_val\u001b[0m \u001b[1;33m*\u001b[0m \u001b[0mk_val\u001b[0m\u001b[1;33m\u001b[0m\u001b[1;33m\u001b[0m\u001b[0m\n\u001b[0;32m     15\u001b[0m     \u001b[1;32mreturn\u001b[0m \u001b[0md2K_fg2_\u001b[0m\u001b[1;33m\u001b[0m\u001b[1;33m\u001b[0m\u001b[0m\n\u001b[1;32m---> 16\u001b[1;33m \u001b[0md2rbf_kernel_scratch_jac\u001b[0m\u001b[1;33m(\u001b[0m\u001b[1;36m1.0\u001b[0m\u001b[1;33m,\u001b[0m \u001b[0mtest_X\u001b[0m\u001b[1;33m,\u001b[0m \u001b[0mtest_Y\u001b[0m\u001b[1;33m)\u001b[0m\u001b[1;33m\u001b[0m\u001b[1;33m\u001b[0m\u001b[0m\n\u001b[0m",
      "\u001b[1;32m~\\AppData\\Local\\Temp\\ipykernel_45700\\1269332392.py\u001b[0m in \u001b[0;36md2rbf_kernel_scratch_jac\u001b[1;34m(gamma, X, Y)\u001b[0m\n\u001b[0;32m     12\u001b[0m \u001b[1;33m\u001b[0m\u001b[0m\n\u001b[0;32m     13\u001b[0m         \u001b[1;31m# compute the derivative term\u001b[0m\u001b[1;33m\u001b[0m\u001b[1;33m\u001b[0m\u001b[0m\n\u001b[1;32m---> 14\u001b[1;33m         \u001b[0md2K_fg2_\u001b[0m\u001b[1;33m[\u001b[0m\u001b[0midim\u001b[0m\u001b[1;33m]\u001b[0m \u001b[1;33m=\u001b[0m \u001b[0mconstant\u001b[0m \u001b[1;33m*\u001b[0m \u001b[0mx_val\u001b[0m \u001b[1;33m*\u001b[0m \u001b[0mk_val\u001b[0m\u001b[1;33m\u001b[0m\u001b[1;33m\u001b[0m\u001b[0m\n\u001b[0m\u001b[0;32m     15\u001b[0m     \u001b[1;32mreturn\u001b[0m \u001b[0md2K_fg2_\u001b[0m\u001b[1;33m\u001b[0m\u001b[1;33m\u001b[0m\u001b[0m\n\u001b[0;32m     16\u001b[0m \u001b[0md2rbf_kernel_scratch_jac\u001b[0m\u001b[1;33m(\u001b[0m\u001b[1;36m1.0\u001b[0m\u001b[1;33m,\u001b[0m \u001b[0mtest_X\u001b[0m\u001b[1;33m,\u001b[0m \u001b[0mtest_Y\u001b[0m\u001b[1;33m)\u001b[0m\u001b[1;33m\u001b[0m\u001b[1;33m\u001b[0m\u001b[0m\n",
      "\u001b[1;31mValueError\u001b[0m: setting an array element with a sequence."
     ]
    }
   ],
   "source": [
    "def d2rbf_kernel_scratch_jac(gamma, X, Y):\n",
    "    d2K_fg2_ = onp.empty(X.shape[-1])\n",
    "    \n",
    "    constant = 2 * gamma\n",
    "    \n",
    "    k_val = rbf_sklearn(onp.array(X), onp.array(Y), gamma=gamma)\n",
    "    \n",
    "    for idim in range(X.shape[1]):\n",
    "        \n",
    "        # compute the xterm: 2 gamma (xj - yj)^2\n",
    "        x_val = constant * (X[:, idim] - Y[:, idim]) ** 2 - 1\n",
    "\n",
    "        # compute the derivative term\n",
    "        d2K_fg2_[idim] = constant * x_val * k_val \n",
    "    return d2K_fg2_\n",
    "d2rbf_kernel_scratch_jac(1.0, test_X, test_Y)"
   ]
  },
  {
   "cell_type": "code",
   "execution_count": 49,
   "metadata": {},
   "outputs": [
    {
     "data": {
      "text/plain": [
       "(10, 10, 1)"
      ]
     },
     "execution_count": 49,
     "metadata": {},
     "output_type": "execute_result"
    }
   ],
   "source": [
    "# initialize matrix\n",
    "d2K_fg2_ = onp.empty((test_X.shape[0], test_X.shape[0], test_X.shape[1]))\n",
    "\n",
    "for i in range(test_X.shape[0]):\n",
    "    for j in range(test_Y.shape[0]):\n",
    "        \n",
    "        d2K_fg2_[i, j, :] = d2rbf_kernel_scratch_jac(gamma, onp.array(test_X[i, :]).reshape(1,-1), onp.array(test_Y[j, :]).reshape(1, -1))\n",
    "d2K_fg2_.shape"
   ]
  },
  {
   "cell_type": "code",
   "execution_count": 50,
   "metadata": {},
   "outputs": [
    {
     "data": {
      "text/plain": [
       "(10, 10, 1, 1)"
      ]
     },
     "execution_count": 50,
     "metadata": {},
     "output_type": "execute_result"
    }
   ],
   "source": [
    "# define the cross operator K_fg(x, y), dK wrt x\n",
    "dK_fg_func = jax.hessian(rbf_kernel, argnums=(1))\n",
    "\n",
    "K_func = functools.partial(dK_fg_func, params)\n",
    "d2K_fg2 = covariance_matrix(K_func, test_X, test_Y)\n",
    "\n",
    "d2K_fg2.shape"
   ]
  },
  {
   "cell_type": "code",
   "execution_count": 51,
   "metadata": {},
   "outputs": [
    {
     "data": {
      "text/plain": [
       "<matplotlib.collections.PathCollection at 0x2354ff648e0>"
      ]
     },
     "execution_count": 51,
     "metadata": {},
     "output_type": "execute_result"
    },
    {
     "data": {
      "image/png": "[encoded data removed]",
      "text/plain": [
       "<Figure size 640x440 with 1 Axes>"
      ]
     },
     "metadata": {},
     "output_type": "display_data"
    }
   ],
   "source": [
    "plt.scatter(test_X,Y)"
   ]
  },
  {
   "cell_type": "code",
   "execution_count": 52,
   "metadata": {},
   "outputs": [
    {
     "data": {
      "text/plain": [
       "(10, 1, 1, 10)"
      ]
     },
     "execution_count": 52,
     "metadata": {},
     "output_type": "execute_result"
    }
   ],
   "source": [
    "K_gf = covariance_matrix(rbf_k_, test_X, test_Y).dot(d2K_fg2.T)\n",
    "K_gf.shape"
   ]
  },
  {
   "cell_type": "code",
   "execution_count": 53,
   "metadata": {},
   "outputs": [],
   "source": [
    "def posterior_distribution(X, targets,x_test, k,l = 1,sigma_f=1, sigma_n = 1, ):\n",
    "    K = k(X, X, l=l, sigma_f_sq = sigma_f) + sigma_n * np.eye(len(X))\n",
    "    K_s = k(X, x_test,l=l, sigma_f_sq = sigma_f)\n",
    "    K_ss = k(x_test, x_test,l=l, sigma_f_sq = sigma_f)\n",
    "\n",
    "    L = onp.linalg.cholesky(K)\n",
    "    alpha = onp.linalg.solve(L.T, jnp.linalg.solve(L, targets))\n",
    "\n",
    "    f_star = onp.dot(K_s.T, alpha)\n",
    "    v = onp.linalg.solve(L, K_s)\n",
    "    var_f_star = K_ss - onp.dot(v.T, v)\n",
    "    \n",
    "    return f_star, var_f_star"
   ]
  },
  {
   "cell_type": "code",
   "execution_count": null,
   "metadata": {},
   "outputs": [],
   "source": []
  }
 ],
 "metadata": {
  "kernelspec": {
   "display_name": "base",
   "language": "python",
   "name": "python3"
  },
  "language_info": {
   "codemirror_mode": {
    "name": "ipython",
    "version": 3
   },
   "file_extension": ".py",
   "mimetype": "text/x-python",
   "name": "python",
   "nbconvert_exporter": "python",
   "pygments_lexer": "ipython3",
   "version": "3.9.13"
  },
  "orig_nbformat": 4
 },
 "nbformat": 4,
 "nbformat_minor": 2
}
